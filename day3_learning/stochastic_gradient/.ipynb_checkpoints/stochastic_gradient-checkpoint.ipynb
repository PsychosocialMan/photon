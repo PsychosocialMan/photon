{
 "cells": [
  {
   "cell_type": "code",
   "execution_count": 2,
   "metadata": {},
   "outputs": [],
   "source": [
    "#import model from sklearn\n",
    "from sklearn.linear_model import SGDClassifier\n",
    "#import other libs\n",
    "import pandas as pd\n",
    "import numpy as np\n",
    "import matplotlib.pyplot as plt"
   ]
  },
  {
   "cell_type": "code",
   "execution_count": null,
   "metadata": {},
   "outputs": [],
   "source": [
    "#Загрузка предобработанных данных\n",
    "train_df  = pd.read_csv('./../../data/train_df_done.csv')\n",
    "test_df = pd.read_csv('./../../data/test_df_done.csv')\n",
    "\n",
    "#Функция приведения указанного столбца к float32\n",
    "def to_float32(string, data_frame):\n",
    "    col = data_frame[string].copy()\n",
    "    col = col.map(lambda v: v).astype(np.float32)\n",
    "    data_frame[string] = col\n",
    "    return data_frame\n",
    "    \n",
    "train_df = to_float32('Longevity', train_df)\n",
    "train_df = to_float32('Education', train_df)\n",
    "train_df = to_float32('Family', train_df)\n",
    "train_df = to_float32('Sex', train_df)\n",
    "train_df = to_float32('Age', train_df)\n",
    "train_df = to_float32('Activity', train_df)\n",
    "train_df = to_float32('Sport', train_df)\n",
    "train_df = to_float32('IsAlone', train_df)\n",
    "train_df = to_float32('SocialStatus', train_df)\n",
    "train_df = to_float32('AgeRanges', train_df)\n",
    "\n",
    "test_df = to_float32('Longevity', test_df)\n",
    "test_df = to_float32('Education', test_df)\n",
    "test_df = to_float32('Family', test_df)\n",
    "test_df = to_float32('Sex', test_df)\n",
    "test_df = to_float32('Age', test_df)\n",
    "test_df = to_float32('Activity', test_df)\n",
    "test_df = to_float32('Sport', test_df)\n",
    "test_df = to_float32('IsAlone', test_df)\n",
    "test_df = to_float32('SocialStatus', test_df)\n",
    "test_df = to_float32('AgeRanges', test_df)\n",
    "\n",
    "#Формирование features и lables\n",
    "y = train_df['Longevity']\n",
    "x = train_df.drop(['Longevity'], axis = 1)\n",
    "\n",
    "test_df.info()\n",
    "    "
   ]
  }
 ],
 "metadata": {
  "kernelspec": {
   "display_name": "Python 3",
   "language": "python",
   "name": "python3"
  },
  "language_info": {
   "codemirror_mode": {
    "name": "ipython",
    "version": 2
   },
   "file_extension": ".py",
   "mimetype": "text/x-python",
   "name": "python",
   "nbconvert_exporter": "python",
   "pygments_lexer": "ipython2",
   "version": "2.7.15+"
  }
 },
 "nbformat": 4,
 "nbformat_minor": 2
}
