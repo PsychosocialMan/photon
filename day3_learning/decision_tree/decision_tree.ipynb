{
 "cells": [
  {
   "cell_type": "code",
   "execution_count": 4,
   "metadata": {},
   "outputs": [],
   "source": [
    "import pandas as pd\n",
    "import numpy as np\n",
    "from sklearn.model_selection import train_test_split\n",
    "from sklearn.tree import DecisionTreeClassifier\n",
    "from sklearn.tree import export_graphviz"
   ]
  },
  {
   "cell_type": "code",
   "execution_count": 5,
   "metadata": {},
   "outputs": [
    {
     "name": "stdout",
     "output_type": "stream",
     "text": [
      "<class 'pandas.core.frame.DataFrame'>\n",
      "RangeIndex: 452 entries, 0 to 451\n",
      "Data columns (total 10 columns):\n",
      "Education       452 non-null float32\n",
      "Sex             452 non-null float32\n",
      "Age             452 non-null float32\n",
      "Activity        452 non-null float32\n",
      "Sport           452 non-null float32\n",
      "Longevity       452 non-null float32\n",
      "Family          452 non-null float32\n",
      "IsAlone         452 non-null float32\n",
      "SocialStatus    452 non-null float32\n",
      "AgeRanges       452 non-null float32\n",
      "dtypes: float32(10)\n",
      "memory usage: 17.7 KB\n"
     ]
    }
   ],
   "source": [
    "train_df = pd.read_csv('./../../data/train_df_done.csv')\n",
    "test_df = pd.read_csv('./../../data/test_df_done.csv')\n",
    "\n",
    "def to_float32(string, data_frame):\n",
    "    col = data_frame[string].copy()\n",
    "    col = col.map(lambda v: v).astype(np.float32)\n",
    "    data_frame[string] = col\n",
    "    return data_frame\n",
    "    \n",
    "train_df = to_float32('Longevity', train_df)\n",
    "train_df = to_float32('Education', train_df)\n",
    "train_df = to_float32('Family', train_df)\n",
    "train_df = to_float32('Sex', train_df)\n",
    "train_df = to_float32('Age', train_df)\n",
    "train_df = to_float32('Activity', train_df)\n",
    "train_df = to_float32('Sport', train_df)\n",
    "train_df = to_float32('IsAlone', train_df)\n",
    "train_df = to_float32('SocialStatus', train_df)\n",
    "train_df = to_float32('AgeRanges', train_df)\n",
    "\n",
    "test_df = to_float32('Longevity', test_df)\n",
    "test_df = to_float32('Education', test_df)\n",
    "test_df = to_float32('Family', test_df)\n",
    "test_df = to_float32('Sex', test_df)\n",
    "test_df = to_float32('Age', test_df)\n",
    "test_df = to_float32('Activity', test_df)\n",
    "test_df = to_float32('Sport', test_df)\n",
    "test_df = to_float32('IsAlone', test_df)\n",
    "test_df = to_float32('SocialStatus', test_df)\n",
    "test_df = to_float32('AgeRanges', test_df)\n",
    "\n",
    "y = train_df['Longevity']\n",
    "x = train_df.drop(['Longevity'], axis = 1)\n",
    "\n",
    "test_df.info()"
   ]
  },
  {
   "cell_type": "code",
   "execution_count": 6,
   "metadata": {},
   "outputs": [],
   "source": [
    "x_train, x_test, y_train, y_test = train_test_split(x, y, test_size = 0.2)\n"
   ]
  },
  {
   "cell_type": "code",
   "execution_count": 7,
   "metadata": {},
   "outputs": [],
   "source": [
    "df_y = train_df['Longevity'].copy()\n",
    "df_x = train_df.drop(['Longevity'], axis = 1)"
   ]
  },
  {
   "cell_type": "code",
   "execution_count": 8,
   "metadata": {},
   "outputs": [
    {
     "data": {
      "text/plain": [
       "DecisionTreeClassifier(class_weight=None, criterion='gini', max_depth=3,\n",
       "            max_features=None, max_leaf_nodes=None,\n",
       "            min_impurity_decrease=0.0, min_impurity_split=None,\n",
       "            min_samples_leaf=1, min_samples_split=2,\n",
       "            min_weight_fraction_leaf=0.0, presort=False, random_state=None,\n",
       "            splitter='best')"
      ]
     },
     "execution_count": 8,
     "metadata": {},
     "output_type": "execute_result"
    }
   ],
   "source": [
    "tree = DecisionTreeClassifier(max_depth = 3)\n",
    "tree"
   ]
  },
  {
   "cell_type": "code",
   "execution_count": 9,
   "metadata": {},
   "outputs": [
    {
     "data": {
      "text/plain": [
       "DecisionTreeClassifier(class_weight=None, criterion='gini', max_depth=3,\n",
       "            max_features=None, max_leaf_nodes=None,\n",
       "            min_impurity_decrease=0.0, min_impurity_split=None,\n",
       "            min_samples_leaf=1, min_samples_split=2,\n",
       "            min_weight_fraction_leaf=0.0, presort=False, random_state=None,\n",
       "            splitter='best')"
      ]
     },
     "execution_count": 9,
     "metadata": {},
     "output_type": "execute_result"
    }
   ],
   "source": [
    "tree.fit(x_train, y_train)"
   ]
  },
  {
   "cell_type": "code",
   "execution_count": 10,
   "metadata": {},
   "outputs": [
    {
     "data": {
      "text/plain": [
       "0.7848837209302325"
      ]
     },
     "execution_count": 10,
     "metadata": {},
     "output_type": "execute_result"
    }
   ],
   "source": [
    "tree.score(x_test, y_test)"
   ]
  },
  {
   "cell_type": "markdown",
   "metadata": {},
   "source": [
    "###Отрисовка "
   ]
  },
  {
   "cell_type": "code",
   "execution_count": 11,
   "metadata": {},
   "outputs": [],
   "source": [
    "#export_graphviz(tree, out_file='tree_pic.dot', feature_names = x.columns, filled = True)"
   ]
  },
  {
   "cell_type": "code",
   "execution_count": 12,
   "metadata": {},
   "outputs": [
    {
     "name": "stdout",
     "output_type": "stream",
     "text": [
      "/bin/sh: 1: dot: not found\r\n"
     ]
    }
   ],
   "source": [
    "#! dot -Tpng tree_pic.dot -o tree_pic.png"
   ]
  },
  {
   "cell_type": "code",
   "execution_count": null,
   "metadata": {},
   "outputs": [],
   "source": []
  },
  {
   "cell_type": "code",
   "execution_count": null,
   "metadata": {},
   "outputs": [],
   "source": []
  }
 ],
 "metadata": {
  "kernelspec": {
   "display_name": "Python 3",
   "language": "python",
   "name": "python3"
  },
  "language_info": {
   "codemirror_mode": {
    "name": "ipython",
    "version": 2
   },
   "file_extension": ".py",
   "mimetype": "text/x-python",
   "name": "python",
   "nbconvert_exporter": "python",
   "pygments_lexer": "ipython2",
   "version": "2.7.15+"
  }
 },
 "nbformat": 4,
 "nbformat_minor": 2
}
