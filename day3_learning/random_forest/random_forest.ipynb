{
 "cells": [
  {
   "cell_type": "code",
   "execution_count": 1,
   "metadata": {},
   "outputs": [],
   "source": [
    "#import libraries\n",
    "from sklearn.ensemble import RandomForestClassifier\n",
    "import pandas as pd\n",
    "import numpy as np"
   ]
  },
  {
   "cell_type": "code",
   "execution_count": 2,
   "metadata": {},
   "outputs": [
    {
     "data": {
      "text/html": [
       "<div>\n",
       "<style scoped>\n",
       "    .dataframe tbody tr th:only-of-type {\n",
       "        vertical-align: middle;\n",
       "    }\n",
       "\n",
       "    .dataframe tbody tr th {\n",
       "        vertical-align: top;\n",
       "    }\n",
       "\n",
       "    .dataframe thead th {\n",
       "        text-align: right;\n",
       "    }\n",
       "</style>\n",
       "<table border=\"1\" class=\"dataframe\">\n",
       "  <thead>\n",
       "    <tr style=\"text-align: right;\">\n",
       "      <th></th>\n",
       "      <th>Education</th>\n",
       "      <th>Sex</th>\n",
       "      <th>Age</th>\n",
       "      <th>Activity</th>\n",
       "      <th>Sport</th>\n",
       "      <th>Family</th>\n",
       "      <th>IsAlone</th>\n",
       "      <th>SocialStatus</th>\n",
       "      <th>AgeRanges</th>\n",
       "    </tr>\n",
       "  </thead>\n",
       "  <tbody>\n",
       "    <tr>\n",
       "      <th>0</th>\n",
       "      <td>1.0</td>\n",
       "      <td>0.0</td>\n",
       "      <td>0.6</td>\n",
       "      <td>0.051822</td>\n",
       "      <td>1.0</td>\n",
       "      <td>0.0</td>\n",
       "      <td>1.0</td>\n",
       "      <td>0.030675</td>\n",
       "      <td>4.0</td>\n",
       "    </tr>\n",
       "    <tr>\n",
       "      <th>1</th>\n",
       "      <td>3.0</td>\n",
       "      <td>1.0</td>\n",
       "      <td>0.3</td>\n",
       "      <td>0.037593</td>\n",
       "      <td>1.0</td>\n",
       "      <td>3.0</td>\n",
       "      <td>0.0</td>\n",
       "      <td>0.907975</td>\n",
       "      <td>3.0</td>\n",
       "    </tr>\n",
       "    <tr>\n",
       "      <th>2</th>\n",
       "      <td>3.0</td>\n",
       "      <td>0.0</td>\n",
       "      <td>0.3</td>\n",
       "      <td>0.014112</td>\n",
       "      <td>0.0</td>\n",
       "      <td>0.0</td>\n",
       "      <td>1.0</td>\n",
       "      <td>0.907975</td>\n",
       "      <td>3.0</td>\n",
       "    </tr>\n",
       "    <tr>\n",
       "      <th>3</th>\n",
       "      <td>3.0</td>\n",
       "      <td>0.0</td>\n",
       "      <td>0.5</td>\n",
       "      <td>0.027541</td>\n",
       "      <td>1.0</td>\n",
       "      <td>2.0</td>\n",
       "      <td>0.0</td>\n",
       "      <td>0.944785</td>\n",
       "      <td>4.0</td>\n",
       "    </tr>\n",
       "    <tr>\n",
       "      <th>4</th>\n",
       "      <td>2.0</td>\n",
       "      <td>0.0</td>\n",
       "      <td>0.3</td>\n",
       "      <td>0.022446</td>\n",
       "      <td>0.0</td>\n",
       "      <td>1.0</td>\n",
       "      <td>0.0</td>\n",
       "      <td>0.460123</td>\n",
       "      <td>3.0</td>\n",
       "    </tr>\n",
       "  </tbody>\n",
       "</table>\n",
       "</div>"
      ],
      "text/plain": [
       "   Education  Sex  Age  Activity  Sport  Family  IsAlone  SocialStatus  \\\n",
       "0        1.0  0.0  0.6  0.051822    1.0     0.0      1.0      0.030675   \n",
       "1        3.0  1.0  0.3  0.037593    1.0     3.0      0.0      0.907975   \n",
       "2        3.0  0.0  0.3  0.014112    0.0     0.0      1.0      0.907975   \n",
       "3        3.0  0.0  0.5  0.027541    1.0     2.0      0.0      0.944785   \n",
       "4        2.0  0.0  0.3  0.022446    0.0     1.0      0.0      0.460123   \n",
       "\n",
       "   AgeRanges  \n",
       "0        4.0  \n",
       "1        3.0  \n",
       "2        3.0  \n",
       "3        4.0  \n",
       "4        3.0  "
      ]
     },
     "execution_count": 2,
     "metadata": {},
     "output_type": "execute_result"
    }
   ],
   "source": [
    "#Загрузка предобработанных данных\n",
    "train_df  = pd.read_csv('./../../data/train_df_done.csv')\n",
    "test_df = pd.read_csv('./../../data/test_df_done.csv')\n",
    "\n",
    "#Функция приведения указанного столбца к float32\n",
    "def to_float32(string, data_frame):\n",
    "    col = data_frame[string].copy()\n",
    "    col = col.map(lambda v: v).astype(np.float32)\n",
    "    data_frame[string] = col\n",
    "    return data_frame\n",
    "    \n",
    "#Приведение всех столбцов к float32 (криво, согласен)    \n",
    "train_df = to_float32('Longevity', train_df)\n",
    "train_df = to_float32('Education', train_df)\n",
    "train_df = to_float32('Family', train_df)\n",
    "train_df = to_float32('Sex', train_df)\n",
    "train_df = to_float32('Age', train_df)\n",
    "train_df = to_float32('Activity', train_df)\n",
    "train_df = to_float32('Sport', train_df)\n",
    "train_df = to_float32('IsAlone', train_df)\n",
    "train_df = to_float32('SocialStatus', train_df)\n",
    "train_df = to_float32('AgeRanges', train_df)\n",
    "\n",
    "test_df = to_float32('Longevity', test_df)\n",
    "test_df = to_float32('Education', test_df)\n",
    "test_df = to_float32('Family', test_df)\n",
    "test_df = to_float32('Sex', test_df)\n",
    "test_df = to_float32('Age', test_df)\n",
    "test_df = to_float32('Activity', test_df)\n",
    "test_df = to_float32('Sport', test_df)\n",
    "test_df = to_float32('IsAlone', test_df)\n",
    "test_df = to_float32('SocialStatus', test_df)\n",
    "test_df = to_float32('AgeRanges', test_df)\n",
    "\n",
    "#Формирование features и lables\n",
    "y_train = train_df['Longevity'].copy()\n",
    "x_train = train_df.drop(['Longevity'], axis = 1)\n",
    "\n",
    "y_test = test_df['Longevity'].copy()\n",
    "x_test = test_df.drop(['Longevity'], axis = 1)\n",
    "\n",
    "\n",
    "x_test.head()"
   ]
  },
  {
   "cell_type": "code",
   "execution_count": 3,
   "metadata": {},
   "outputs": [
    {
     "data": {
      "text/plain": [
       "RandomForestClassifier(bootstrap=True, class_weight=None, criterion='gini',\n",
       "            max_depth=6, max_features='auto', max_leaf_nodes=None,\n",
       "            min_impurity_decrease=0.0, min_impurity_split=None,\n",
       "            min_samples_leaf=1, min_samples_split=2,\n",
       "            min_weight_fraction_leaf=0.0, n_estimators=500, n_jobs=None,\n",
       "            oob_score=False, random_state=0, verbose=0, warm_start=False)"
      ]
     },
     "execution_count": 3,
     "metadata": {},
     "output_type": "execute_result"
    }
   ],
   "source": [
    "model = RandomForestClassifier(n_estimators=500, \n",
    "                               max_depth=6,\n",
    "                               random_state=0\n",
    "                              )\n",
    "model"
   ]
  },
  {
   "cell_type": "code",
   "execution_count": 4,
   "metadata": {},
   "outputs": [
    {
     "data": {
      "text/plain": [
       "RandomForestClassifier(bootstrap=True, class_weight=None, criterion='gini',\n",
       "            max_depth=6, max_features='auto', max_leaf_nodes=None,\n",
       "            min_impurity_decrease=0.0, min_impurity_split=None,\n",
       "            min_samples_leaf=1, min_samples_split=2,\n",
       "            min_weight_fraction_leaf=0.0, n_estimators=500, n_jobs=None,\n",
       "            oob_score=False, random_state=0, verbose=0, warm_start=False)"
      ]
     },
     "execution_count": 4,
     "metadata": {},
     "output_type": "execute_result"
    }
   ],
   "source": [
    "model.fit(x_train, y_train)"
   ]
  },
  {
   "cell_type": "code",
   "execution_count": 5,
   "metadata": {},
   "outputs": [
    {
     "data": {
      "text/plain": [
       "0.9048672566371682"
      ]
     },
     "execution_count": 5,
     "metadata": {},
     "output_type": "execute_result"
    }
   ],
   "source": [
    "#точность модели\n",
    "model.score(x_test, y_test)"
   ]
  },
  {
   "cell_type": "code",
   "execution_count": null,
   "metadata": {},
   "outputs": [],
   "source": []
  },
  {
   "cell_type": "code",
   "execution_count": null,
   "metadata": {},
   "outputs": [],
   "source": []
  }
 ],
 "metadata": {
  "kernelspec": {
   "display_name": "Python 3",
   "language": "python",
   "name": "python3"
  },
  "language_info": {
   "codemirror_mode": {
    "name": "ipython",
    "version": 2
   },
   "file_extension": ".py",
   "mimetype": "text/x-python",
   "name": "python",
   "nbconvert_exporter": "python",
   "pygments_lexer": "ipython2",
   "version": "2.7.15+"
  }
 },
 "nbformat": 4,
 "nbformat_minor": 2
}
