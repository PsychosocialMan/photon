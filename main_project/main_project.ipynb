{
 "cells": [
  {
   "cell_type": "code",
   "execution_count": 4,
   "metadata": {},
   "outputs": [
    {
     "name": "stdout",
     "output_type": "stream",
     "text": [
      "TenserFlow version: 2.0.0\n"
     ]
    }
   ],
   "source": [
    " # TensorFlow and tf.keras\n",
    "import tensorflow as tf\n",
    "#from tensorflow import keras\n",
    " #import keras.utils\n",
    "from tensorflow.keras import utils as np_utils\n",
    "from tensorflow.keras.models import Sequential\n",
    "from tensorflow.keras.layers import Dense, Dropout, Activation, Flatten\n",
    "from tensorflow.keras.optimizers import SGD\n",
    "\n",
    " # Helper libraries\n",
    "import numpy as np\n",
    "import matplotlib.pyplot as plt\n",
    "import glob, os\n",
    "import re\n",
    "import pandas as pd\n",
    "\n",
    " # Pillow\n",
    "import PIL\n",
    "from PIL import Image\n",
    "print (\"TenserFlow version: \" +tf.__version__)"
   ]
  },
  {
   "cell_type": "code",
   "execution_count": 12,
   "metadata": {},
   "outputs": [
    {
     "data": {
      "text/plain": [
       "35108"
      ]
     },
     "execution_count": 12,
     "metadata": {},
     "output_type": "execute_result"
    }
   ],
   "source": [
    "dataset_path = \"./../../Eyes/\"\n",
    "df_lables_cropped = pd.read_csv(dataset_path + \"trainLabels_cropped.csv\")\n",
    "df_lables = pd.read_csv(dataset_path + \"trainLabels.csv\")"
   ]
  },
  {
   "cell_type": "code",
   "execution_count": null,
   "metadata": {},
   "outputs": [],
   "source": []
  }
 ],
 "metadata": {
  "kernelspec": {
   "display_name": "Python 3",
   "language": "python",
   "name": "python3"
  },
  "language_info": {
   "codemirror_mode": {
    "name": "ipython",
    "version": 3
   },
   "file_extension": ".py",
   "mimetype": "text/x-python",
   "name": "python",
   "nbconvert_exporter": "python",
   "pygments_lexer": "ipython3",
   "version": "3.7.4"
  }
 },
 "nbformat": 4,
 "nbformat_minor": 2
}
